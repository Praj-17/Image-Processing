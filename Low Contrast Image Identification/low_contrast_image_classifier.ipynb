{
 "cells": [
  {
   "attachments": {},
   "cell_type": "markdown",
   "metadata": {},
   "source": [
    "# References\n",
    "https://theailearner.com/tag/contrast-in-image-processing/\n",
    "https://pyimagesearch.com/2021/01/25/detecting-low-contrast-images-with-opencv-scikit-image-and-python/"
   ]
  },
  {
   "cell_type": "code",
   "execution_count": 4,
   "metadata": {},
   "outputs": [],
   "source": [
    "from skimage.exposure import is_low_contrast\n",
    "# import matplotlib.pyplot as plt\n",
    "import cv2"
   ]
  },
  {
   "cell_type": "code",
   "execution_count": 5,
   "metadata": {},
   "outputs": [
    {
     "name": "stderr",
     "output_type": "stream",
     "text": [
      "WARNING: Ignoring invalid distribution -pencv-python (c:\\users\\pwayk\\anaconda3\\lib\\site-packages)\n",
      "WARNING: Ignoring invalid distribution -cikit-image (c:\\users\\pwayk\\anaconda3\\lib\\site-packages)\n",
      "WARNING: Ignoring invalid distribution -pencv-python (c:\\users\\pwayk\\anaconda3\\lib\\site-packages)\n",
      "WARNING: Ignoring invalid distribution -cikit-image (c:\\users\\pwayk\\anaconda3\\lib\\site-packages)\n",
      "WARNING: Ignoring invalid distribution -pencv-python (c:\\users\\pwayk\\anaconda3\\lib\\site-packages)\n",
      "WARNING: Ignoring invalid distribution -cikit-image (c:\\users\\pwayk\\anaconda3\\lib\\site-packages)\n",
      "WARNING: Ignoring invalid distribution -pencv-python (c:\\users\\pwayk\\anaconda3\\lib\\site-packages)\n",
      "WARNING: Ignoring invalid distribution -cikit-image (c:\\users\\pwayk\\anaconda3\\lib\\site-packages)\n",
      "WARNING: Ignoring invalid distribution -pencv-python (c:\\users\\pwayk\\anaconda3\\lib\\site-packages)\n",
      "WARNING: Ignoring invalid distribution -cikit-image (c:\\users\\pwayk\\anaconda3\\lib\\site-packages)\n",
      "WARNING: Ignoring invalid distribution -pencv-python (c:\\users\\pwayk\\anaconda3\\lib\\site-packages)\n",
      "WARNING: Ignoring invalid distribution -cikit-image (c:\\users\\pwayk\\anaconda3\\lib\\site-packages)\n"
     ]
    },
    {
     "name": "stdout",
     "output_type": "stream",
     "text": [
      "Requirement already satisfied: opencv-python==4.5.5.64 in c:\\users\\pwayk\\anaconda3\\lib\\site-packages (4.5.5.64)\n",
      "Requirement already satisfied: numpy>=1.17.3 in c:\\users\\pwayk\\anaconda3\\lib\\site-packages (from opencv-python==4.5.5.64) (1.21.6)\n"
     ]
    },
    {
     "data": {
      "text/plain": [
       "-1"
      ]
     },
     "execution_count": 5,
     "metadata": {},
     "output_type": "execute_result"
    }
   ],
   "source": [
    "image = cv2.imread(r'Images\\low.png')\n",
    "# print(image)\n",
    "im = image.copy()\n",
    "# image = imutils.resize(image, width=450)\n",
    "gray = cv2.cvtColor(image, cv2.COLOR_BGR2GRAY)\n",
    "if is_low_contrast(gray, fraction_threshold= 0.5):\n",
    "    cv2.putText(im, 'Low Contrast: Yes', (5, 25), cv2.FONT_HERSHEY_SIMPLEX, 0.8,\n",
    "\t\t(0,255,0), 2)\n",
    "else:\n",
    "  cv2.putText(im, 'Low Contrast: No', (5, 25), cv2.FONT_HERSHEY_SIMPLEX, 0.8,\n",
    "\t\t(0,0,255), 2)\n",
    "\n",
    "# plt.imshow(cv2.cvtColor(im,  cv2.COLOR_BGR2RGB))\n",
    "cv2.imshow(\"Detection Output\", im)\n",
    "cv2.waitKey(0)\n",
    "\n"
   ]
  },
  {
   "attachments": {},
   "cell_type": "markdown",
   "metadata": {},
   "source": [
    "### Composing function"
   ]
  },
  {
   "cell_type": "code",
   "execution_count": 8,
   "metadata": {},
   "outputs": [],
   "source": [
    "def is_having_low(image, fraction):\n",
    "    # image = cv2.imread(imgpath)\n",
    "# print(image)\n",
    "    im = image.copy()\n",
    "    # image = imutils.resize(image, width=450)\n",
    "    gray = cv2.cvtColor(image, cv2.COLOR_BGR2GRAY)\n",
    "    if is_low_contrast(gray, fraction_threshold= fraction):\n",
    "        cv2.putText(im, 'Low Contrast: Yes', (5, 25), cv2.FONT_HERSHEY_SIMPLEX, 0.8,\n",
    "            (0,255,0), 2)\n",
    "    else:\n",
    "        cv2.putText(im, 'Low Contrast: No', (5, 25), cv2.FONT_HERSHEY_SIMPLEX, 0.8,\n",
    "                (0,0,255), 2)\n",
    "    return im\n",
    "\n",
    "    # cv2.imshow(\"Detection Output\", im)\n",
    "    # cv2.waitKey(0)"
   ]
  },
  {
   "attachments": {},
   "cell_type": "markdown",
   "metadata": {},
   "source": [
    "# Doing same in real-time"
   ]
  },
  {
   "cell_type": "code",
   "execution_count": 13,
   "metadata": {},
   "outputs": [],
   "source": [
    "cam = cv2.VideoCapture(0)\n",
    "frame_width = int(cam.get(3))\n",
    "frame_height = int(cam.get(4))\n",
    "\n",
    "size = (frame_width, frame_height)\n",
    "\n",
    "# Below VideoWriter object will create\n",
    "# a frame of above defined The output \n",
    "# is stored in 'filename.avi' file.\n",
    "result = cv2.VideoWriter('output.avi', \n",
    "                        cv2.VideoWriter_fourcc(*'MJPG'),\n",
    "                        10, size)\n",
    "\n",
    "while True:\n",
    "    ret, frame = cam.read()\n",
    "    frame = is_having_low(frame, fraction = 0.5)\n",
    "    \n",
    "    cv2.imshow(\"Detection Output\", frame)\n",
    "    result.write(frame)\n",
    "                    \n",
    "                    #Terminate while loop of q key is pressed\n",
    "    if cv2.waitKey(1) & 0xFF == ord('q'):\n",
    "                break\n",
    "cam.release()\n",
    "cv2.destroyAllWindows()"
   ]
  },
  {
   "cell_type": "markdown",
   "metadata": {},
   "source": []
  }
 ],
 "metadata": {
  "kernelspec": {
   "display_name": "base",
   "language": "python",
   "name": "python3"
  },
  "language_info": {
   "codemirror_mode": {
    "name": "ipython",
    "version": 3
   },
   "file_extension": ".py",
   "mimetype": "text/x-python",
   "name": "python",
   "nbconvert_exporter": "python",
   "pygments_lexer": "ipython3",
   "version": "3.9.7"
  },
  "orig_nbformat": 4,
  "vscode": {
   "interpreter": {
    "hash": "dd99128efe45cf7f632cb7a0355bba7c77cb113ed91636cb4dc08454e93f5b32"
   }
  }
 },
 "nbformat": 4,
 "nbformat_minor": 2
}
