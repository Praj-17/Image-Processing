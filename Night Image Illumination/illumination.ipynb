{
 "cells": [
  {
   "attachments": {},
   "cell_type": "markdown",
   "metadata": {},
   "source": [
    "Code reference -\n",
    "https://learnopencv.com/improving-illumination-in-night-time-images/"
   ]
  },
  {
   "attachments": {},
   "cell_type": "markdown",
   "metadata": {},
   "source": [
    "# FlowChart\n",
    "<ol>\n",
    "<li>Obtaining the Bright and Dark channel Prior</li>\n",
    "<li>Computing Global Atmosphere Lighting</li>\n",
    "<li>Finding the Initial Transmission Map</li>\n",
    "<li> Using Dark Channel to Estimate Corrected Transmission Map</li>\n",
    "<li>Smoothing Transmission Map using Guided Filter</li>\n",
    "<li> Calculating the Resultant Image</li>\n",
    "</ol>"
   ]
  },
  {
   "attachments": {},
   "cell_type": "markdown",
   "metadata": {},
   "source": [
    "## Step 1: Obtaining the Bright and Dark channel Prior"
   ]
  },
  {
   "cell_type": "code",
   "execution_count": 1,
   "metadata": {},
   "outputs": [],
   "source": [
    "import cv2\n",
    "import numpy as np"
   ]
  },
  {
   "cell_type": "code",
   "execution_count": 2,
   "metadata": {},
   "outputs": [],
   "source": [
    "\n",
    " \n",
    "def get_illumination_channel(I, w):\n",
    "    M, N, _ = I.shape\n",
    "    # padding for channels\n",
    "    padded = np.pad(I, ((int(w/2), int(w/2)), (int(w/2), int(w/2)), (0, 0)), 'edge')\n",
    "    darkch = np.zeros((M, N))\n",
    "    brightch = np.zeros((M, N))\n",
    " \n",
    "    for i, j in np.ndindex(darkch.shape):\n",
    "        darkch[i, j] = np.min(padded[i:i + w, j:j + w, :]) # dark channel\n",
    "        brightch[i, j] = np.max(padded[i:i + w, j:j + w, :]) # bright channel\n",
    " \n",
    "    return darkch, brightch"
   ]
  },
  {
   "attachments": {},
   "cell_type": "markdown",
   "metadata": {},
   "source": [
    "## Step 2: Computing Global Atmosphere Lighting\n"
   ]
  },
  {
   "cell_type": "code",
   "execution_count": 3,
   "metadata": {},
   "outputs": [],
   "source": [
    "def get_atmosphere(I, brightch, p=0.1):\n",
    "    M, N = brightch.shape\n",
    "    flatI = I.reshape(M*N, 3) # reshaping image array\n",
    "    flatbright = brightch.ravel() #flattening image array\n",
    " \n",
    "    searchidx = (-flatbright).argsort()[:int(M*N*p)] # sorting and slicing\n",
    "    A = np.mean(flatI.take(searchidx, axis=0), dtype=np.float64, axis=0)\n",
    "    return A"
   ]
  },
  {
   "attachments": {},
   "cell_type": "markdown",
   "metadata": {},
   "source": [
    "## Step 3 - Finding the Initial Transmission Map"
   ]
  },
  {
   "cell_type": "code",
   "execution_count": 4,
   "metadata": {},
   "outputs": [],
   "source": [
    "def get_initial_transmission(A, brightch):\n",
    "    A_c = np.max(A)\n",
    "    init_t = (brightch-A_c)/(1.-A_c) # finding initial transmission map\n",
    "    return (init_t - np.min(init_t))/(np.max(init_t) - np.min(init_t)) # normalized initial transmission map\n"
   ]
  },
  {
   "attachments": {},
   "cell_type": "markdown",
   "metadata": {},
   "source": [
    "## Step 4: Using Dark Channel to Estimate Corrected Transmission Map"
   ]
  },
  {
   "cell_type": "code",
   "execution_count": null,
   "metadata": {},
   "outputs": [],
   "source": [
    "def get_corrected_transmission(I, A, darkch, brightch, init_t, alpha, omega, w):\n",
    "    im = np.empty(I.shape, I.dtype);\n",
    "    for ind in range(0, 3):\n",
    "        im[:, :, ind] = I[:, :, ind] / A[ind] #divide pixel values by atmospheric light\n",
    "    dark_c, _ = get_illumination_channel(im, w) # dark channel transmission map\n",
    "    dark_t = 1 - omega*dark_c # corrected dark transmission map\n",
    "    corrected_t = init_t # initializing corrected transmission map with initial transmission map\n",
    "    diffch = brightch - darkch # difference between transmission maps\n",
    " \n",
    "    for i in range(diffch.shape[0]):\n",
    "        for j in range(diffch.shape[1]):\n",
    "            if(diffch[i, j] < alpha):\n",
    "                corrected_t[i, j] = dark_t[i, j] * init_t[i, j]\n",
    " \n",
    "    return np.abs(corrected_t)"
   ]
  },
  {
   "attachments": {},
   "cell_type": "markdown",
   "metadata": {},
   "source": [
    "## Step -5 Smoothing Transmission Map using Guided Filter"
   ]
  },
  {
   "cell_type": "code",
   "execution_count": 6,
   "metadata": {},
   "outputs": [],
   "source": [
    "from itertools import combinations_with_replacement\n",
    "from collections import defaultdict\n",
    "from numpy.linalg import inv\n",
    "\n",
    "R, G, B = 0, 1, 2  # index for convenience\n",
    "\n",
    "def boxfilter(I, r):\n",
    "    \"\"\"Fast box filter implementation.\n",
    "    Parameters\n",
    "    ----------\n",
    "    I:  a single channel/gray image data normalized to [0.0, 1.0]\n",
    "    r:  window radius\n",
    "    Return\n",
    "    -----------\n",
    "    The filtered image data.\n",
    "    \"\"\"\n",
    "    M, N = I.shape\n",
    "    dest = np.zeros((M, N))\n",
    "    #print(I)\n",
    "    \n",
    "    # cumulative sum over Y axis (tate-houkou no wa)\n",
    "    sumY = np.cumsum(I, axis=0)\n",
    "    #print('sumY:{}'.format(sumY))\n",
    "    # difference over Y axis\n",
    "    dest[:r + 1] = sumY[r:2*r + 1] # top r+1 lines\n",
    "    dest[r + 1:M - r] = sumY[2*r + 1:] - sumY[:M - 2*r - 1]\n",
    "    #print(sumY[2*r + 1:]) # from 2*r+1 to end lines\n",
    "    #print(sumY[:M - 2*r - 1]) # same lines of above, from start\n",
    "    #tile replicate sumY[-1] and line them up to match the shape of (r, 1)\n",
    "    dest[-r:] = np.tile(sumY[-1], (r, 1)) - sumY[M - 2*r - 1:M - r - 1] # bottom r lines\n",
    "\n",
    "    # cumulative sum over X axis\n",
    "    sumX = np.cumsum(dest, axis=1)\n",
    "    #print('sumX:{}'.format(sumX))\n",
    "    # difference over X axis\n",
    "    dest[:, :r + 1] = sumX[:, r:2*r + 1] # left r+1 columns\n",
    "    dest[:, r + 1:N - r] = sumX[:, 2*r + 1:] - sumX[:, :N - 2*r - 1]\n",
    "    dest[:, -r:] = np.tile(sumX[:, -1][:, None], (1, r)) - sumX[:, N - 2*r - 1:N - r - 1] # right r columns\n",
    "\n",
    "    #print(dest)\n",
    "\n",
    "    return dest\n",
    "\n",
    "\n",
    "def guided_filter(I, p, r=15, eps=1e-3):\n",
    "    \"\"\"Refine a filter under the guidance of another (RGB) image.\n",
    "    Parameters\n",
    "    -----------\n",
    "    I:   an M * N * 3 RGB image for guidance.\n",
    "    p:   the M * N filter to be guided. transmission is used for this case.\n",
    "    r:   the radius of the guidance\n",
    "    eps: epsilon for the guided filter\n",
    "    Return\n",
    "    -----------\n",
    "    The guided filter.\n",
    "    \"\"\"\n",
    "    M, N = p.shape\n",
    "    base = boxfilter(np.ones((M, N)), r) # this is needed for regularization\n",
    "    \n",
    "    # each channel of I filtered with the mean filter. this is myu.\n",
    "    means = [boxfilter(I[:, :, i], r) / base for i in range(3)]\n",
    "    \n",
    "    # p filtered with the mean filter\n",
    "    mean_p = boxfilter(p, r) / base\n",
    "\n",
    "    # filter I with p then filter it with the mean filter\n",
    "    means_IP = [boxfilter(I[:, :, i]*p, r) / base for i in range(3)]\n",
    "\n",
    "    # covariance of (I, p) in each local patch\n",
    "    covIP = [means_IP[i] - means[i]*mean_p for i in range(3)]\n",
    "\n",
    "    # variance of I in each local patch: the matrix Sigma in ECCV10 eq.14\n",
    "    var = defaultdict(dict)\n",
    "    for i, j in combinations_with_replacement(range(3), 2):\n",
    "        var[i][j] = boxfilter(I[:, :, i]*I[:, :, j], r) / base - means[i]*means[j]\n",
    "\n",
    "    a = np.zeros((M, N, 3))\n",
    "    for y, x in np.ndindex(M, N):\n",
    "        #         rr, rg, rb\n",
    "        # Sigma = rg, gg, gb\n",
    "        #         rb, gb, bb\n",
    "        Sigma = np.array([[var[R][R][y, x], var[R][G][y, x], var[R][B][y, x]],\n",
    "                          [var[R][G][y, x], var[G][G][y, x], var[G][B][y, x]],\n",
    "                          [var[R][B][y, x], var[G][B][y, x], var[B][B][y, x]]])\n",
    "        cov = np.array([c[y, x] for c in covIP])\n",
    "        a[y, x] = np.dot(cov, inv(Sigma + eps*np.eye(3)))  # eq 14\n",
    "\n",
    "    # ECCV10 eq.15\n",
    "    b = mean_p - a[:, :, R]*means[R] - a[:, :, G]*means[G] - a[:, :, B]*means[B]\n",
    "\n",
    "    # ECCV10 eq.16\n",
    "    q = (boxfilter(a[:, :, R], r)*I[:, :, R] + boxfilter(a[:, :, G], r)*I[:, :, G] + boxfilter(a[:, :, B], r)*I[:, :, B] + boxfilter(b, r)) / base\n",
    "\n",
    "    return q"
   ]
  },
  {
   "attachments": {},
   "cell_type": "markdown",
   "metadata": {},
   "source": [
    "## Step 6 - Calculating the Resultant Image"
   ]
  },
  {
   "cell_type": "code",
   "execution_count": 7,
   "metadata": {},
   "outputs": [],
   "source": [
    "def get_final_image(I, A, refined_t, tmin):\n",
    "    refined_t_broadcasted = np.broadcast_to(refined_t[:, :, None], (refined_t.shape[0], refined_t.shape[1], 3)) # duplicating the channel of 2D refined map to 3 channels\n",
    "    J = (I-A) / (np.where(refined_t_broadcasted < tmin, tmin, refined_t_broadcasted)) + A # finding result \n",
    " \n",
    "    return (J - np.min(J))/(np.max(J) - np.min(J)) # normalized image"
   ]
  },
  {
   "cell_type": "code",
   "execution_count": null,
   "metadata": {},
   "outputs": [],
   "source": []
  }
 ],
 "metadata": {
  "kernelspec": {
   "display_name": "Python 3.9.7 64-bit",
   "language": "python",
   "name": "python3"
  },
  "language_info": {
   "codemirror_mode": {
    "name": "ipython",
    "version": 3
   },
   "file_extension": ".py",
   "mimetype": "text/x-python",
   "name": "python",
   "nbconvert_exporter": "python",
   "pygments_lexer": "ipython3",
   "version": "3.9.7 (tags/v3.9.7:1016ef3, Aug 30 2021, 20:19:38) [MSC v.1929 64 bit (AMD64)]"
  },
  "orig_nbformat": 4,
  "vscode": {
   "interpreter": {
    "hash": "941096ab4a304f3509822dba92ee1d36e30c4bf17f0e34fdfd12300d4a2ccfca"
   }
  }
 },
 "nbformat": 4,
 "nbformat_minor": 2
}
